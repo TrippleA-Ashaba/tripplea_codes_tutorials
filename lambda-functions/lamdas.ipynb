{
 "cells": [
  {
   "cell_type": "markdown",
   "id": "0477084d",
   "metadata": {},
   "source": [
    "# Lambda functions tutorial\n",
    "\n",
    "Here we learn about anonymous functions in python commonly known as lambda functions\n",
    "\n",
    "**Syntax**\n",
    "```\n",
    "    lambda arguments : expression\n",
    "```\n",
    "\n",
    "```\n",
    "```"
   ]
  },
  {
   "cell_type": "code",
   "execution_count": null,
   "id": "5e9d8980",
   "metadata": {},
   "outputs": [],
   "source": [
    "alambda x : x+2\n"
   ]
  },
  {
   "cell_type": "code",
   "execution_count": null,
   "id": "53e98768",
   "metadata": {},
   "outputs": [],
   "source": []
  }
 ],
 "metadata": {
  "kernelspec": {
   "display_name": "Python 3 (ipykernel)",
   "language": "python",
   "name": "python3"
  },
  "language_info": {
   "codemirror_mode": {
    "name": "ipython",
    "version": 3
   },
   "file_extension": ".py",
   "mimetype": "text/x-python",
   "name": "python",
   "nbconvert_exporter": "python",
   "pygments_lexer": "ipython3",
   "version": "3.11.3"
  }
 },
 "nbformat": 4,
 "nbformat_minor": 5
}
