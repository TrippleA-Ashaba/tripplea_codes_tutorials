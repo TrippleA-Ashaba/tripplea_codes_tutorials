{
 "cells": [
  {
   "cell_type": "markdown",
   "id": "5ef2d250",
   "metadata": {},
   "source": [
    "# Lambda functions tutorial\n",
    "\n",
    "Here we learn about anonymous functions in python commonly known as lambda functions\n",
    "\n",
    "**Syntax**\n",
    "```\n",
    "    lambda arguments : expression\n",
    "```\n",
    "\n",
    "```\n",
    "```"
   ]
  },
  {
   "cell_type": "markdown",
   "id": "87454fee",
   "metadata": {},
   "source": [
    "### Lambda syntax eith example"
   ]
  },
  {
   "cell_type": "code",
   "execution_count": 73,
   "id": "727e4d65",
   "metadata": {},
   "outputs": [
    {
     "name": "stdout",
     "output_type": "stream",
     "text": [
      "5\n",
      "5\n"
     ]
    }
   ],
   "source": [
    "#Example 1: return 5\n",
    "\n",
    "#before\n",
    "def five():\n",
    "    return 5\n",
    "\n",
    "#after\n",
    "a = lambda:5\n",
    "\n",
    "print(five())\n",
    "print(a())"
   ]
  },
  {
   "cell_type": "code",
   "execution_count": 74,
   "id": "8254de8c",
   "metadata": {},
   "outputs": [
    {
     "name": "stdout",
     "output_type": "stream",
     "text": [
      "5\n",
      "5\n"
     ]
    }
   ],
   "source": [
    "#Example 2:\n",
    "\n",
    "#before\n",
    "def add(x,y):\n",
    "    return x + y\n",
    "\n",
    "#after\n",
    "added = lambda x, y : x + y\n",
    "\n",
    "print(add(3,2))\n",
    "print(added(3,2))"
   ]
  },
  {
   "cell_type": "code",
   "execution_count": 75,
   "id": "0a0fca7f",
   "metadata": {},
   "outputs": [
    {
     "data": {
      "text/plain": [
       "4"
      ]
     },
     "execution_count": 75,
     "metadata": {},
     "output_type": "execute_result"
    }
   ],
   "source": [
    "#Example 3:\n",
    "\n",
    "#before\n",
    "def double(x):\n",
    "    return x*2\n",
    "\n",
    "double(2)\n",
    "\n",
    "#after\n",
    "doubler=lambda x : x*2\n",
    "doubler(2)"
   ]
  },
  {
   "cell_type": "code",
   "execution_count": 76,
   "id": "054b201e",
   "metadata": {},
   "outputs": [
    {
     "name": "stdout",
     "output_type": "stream",
     "text": [
      "True\n",
      "True\n"
     ]
    }
   ],
   "source": [
    "#Example 4:\n",
    "\n",
    "#before\n",
    "def is_even(num):\n",
    "    if num % 2 == 0:\n",
    "        return True\n",
    "    return False\n",
    "\n",
    "#after\n",
    "even = lambda num: num % 2 == 0\n",
    "\n",
    "print(is_even(8))\n",
    "print(even(8))"
   ]
  },
  {
   "cell_type": "markdown",
   "id": "895e481e",
   "metadata": {},
   "source": [
    "## Use Cases"
   ]
  },
  {
   "cell_type": "markdown",
   "id": "83405a4b",
   "metadata": {},
   "source": [
    "### Sorting\n"
   ]
  },
  {
   "cell_type": "code",
   "execution_count": 77,
   "id": "cabc2d24",
   "metadata": {},
   "outputs": [
    {
     "data": {
      "text/plain": [
       "['Desk', 'bag', 'bike', 'car', 'cup', 'deck', 'laptop']"
      ]
     },
     "execution_count": 77,
     "metadata": {},
     "output_type": "execute_result"
    }
   ],
   "source": [
    "x = ['cup', 'bag', 'car', 'deck', 'bike', 'laptop', 'Desk']\n",
    "x.sort()\n",
    "x"
   ]
  },
  {
   "cell_type": "code",
   "execution_count": 78,
   "id": "9d6ed21b",
   "metadata": {},
   "outputs": [
    {
     "data": {
      "text/plain": [
       "['bag', 'bike', 'car', 'cup', 'deck', 'Desk', 'laptop']"
      ]
     },
     "execution_count": 78,
     "metadata": {},
     "output_type": "execute_result"
    }
   ],
   "source": [
    "a = ['cup', 'bag', 'car', 'deck', 'bike', 'laptop', 'Desk']\n",
    "a.sort(key=lambda x:x.lower())\n",
    "a"
   ]
  },
  {
   "cell_type": "code",
   "execution_count": null,
   "id": "28758fc0",
   "metadata": {},
   "outputs": [],
   "source": []
  },
  {
   "cell_type": "code",
   "execution_count": 79,
   "id": "6c0d88c3",
   "metadata": {},
   "outputs": [
    {
     "data": {
      "text/plain": [
       "['bag', 'car', 'cup', 'bike', 'deck', 'Desk', 'laptop']"
      ]
     },
     "execution_count": 79,
     "metadata": {},
     "output_type": "execute_result"
    }
   ],
   "source": [
    "b = ['cup', 'bag', 'car', 'deck', 'bike', 'laptop', 'Desk']\n",
    "b.sort(key=str.lower)\n",
    "b.sort(key=lambda x : len(x))\n",
    "b"
   ]
  },
  {
   "cell_type": "code",
   "execution_count": 80,
   "id": "61e6db59",
   "metadata": {},
   "outputs": [
    {
     "data": {
      "text/plain": [
       "['bag', 'car', 'cup', 'bike', 'deck', 'Desk', 'laptop']"
      ]
     },
     "execution_count": 80,
     "metadata": {},
     "output_type": "execute_result"
    }
   ],
   "source": [
    "items = ['cup', 'bag', 'car', 'deck', 'bike', 'laptop', 'Desk']\n",
    "items.sort(key=lambda x: (len(x), x.lower()))\n",
    "items"
   ]
  },
  {
   "cell_type": "code",
   "execution_count": 81,
   "id": "749ec5ab",
   "metadata": {},
   "outputs": [
    {
     "data": {
      "text/plain": [
       "[5.09, 11, 'number']"
      ]
     },
     "execution_count": 81,
     "metadata": {},
     "output_type": "execute_result"
    }
   ],
   "source": [
    "a_list = [11, 'number', 5.09]\n",
    "a_list.sort(key=lambda x: x.__class__.__name__)\n",
    "\n",
    "a_list"
   ]
  },
  {
   "cell_type": "markdown",
   "id": "9eff8023",
   "metadata": {},
   "source": [
    "### Closure"
   ]
  },
  {
   "cell_type": "code",
   "execution_count": 82,
   "id": "eee7ddb5",
   "metadata": {},
   "outputs": [
    {
     "data": {
      "text/plain": [
       "15"
      ]
     },
     "execution_count": 82,
     "metadata": {},
     "output_type": "execute_result"
    }
   ],
   "source": [
    "#example\n",
    "\n",
    "def outer_function(x):\n",
    "    def inner_function(y):\n",
    "        return x + y\n",
    "    return inner_function\n",
    "\n",
    "closure = outer_function(10)\n",
    "closure(5)"
   ]
  },
  {
   "cell_type": "code",
   "execution_count": 83,
   "id": "2e912bf0",
   "metadata": {},
   "outputs": [
    {
     "data": {
      "text/plain": [
       "15"
      ]
     },
     "execution_count": 83,
     "metadata": {},
     "output_type": "execute_result"
    }
   ],
   "source": [
    "def closure(x):\n",
    "    return lambda y : y + x\n",
    "\n",
    "add = closure(10)\n",
    "add(5)"
   ]
  },
  {
   "cell_type": "code",
   "execution_count": 84,
   "id": "d103ee0d",
   "metadata": {},
   "outputs": [
    {
     "data": {
      "text/plain": [
       "['bag', 'car', 'cup', 'bike', 'deck', 'Desk', 'laptop']"
      ]
     },
     "execution_count": 84,
     "metadata": {},
     "output_type": "execute_result"
    }
   ],
   "source": [
    "def sort_words(words):\n",
    "    return sorted(words, key=lambda word: (len(word),word.lower()))\n",
    "\n",
    "words = ['cup', 'bag', 'car', 'deck', 'bike', 'laptop', 'Desk']\n",
    "\n",
    "sort_words(words)"
   ]
  },
  {
   "cell_type": "code",
   "execution_count": 85,
   "id": "17e945c0",
   "metadata": {},
   "outputs": [
    {
     "data": {
      "text/plain": [
       "[1, 4, 9, 16, 25]"
      ]
     },
     "execution_count": 85,
     "metadata": {},
     "output_type": "execute_result"
    }
   ],
   "source": [
    "def process_numbers(numbers, callback):\n",
    "    res = []\n",
    "    for num in numbers:\n",
    "        result = callback(num)\n",
    "        res.append(result)\n",
    "    return res\n",
    "numbers_list = [1, 2, 3, 4, 5]\n",
    "\n",
    "process_numbers(numbers_list, lambda x: x * 2)\n",
    "process_numbers(numbers_list, lambda x: x ** 2)"
   ]
  },
  {
   "cell_type": "code",
   "execution_count": 86,
   "id": "4123ca4e",
   "metadata": {},
   "outputs": [
    {
     "name": "stdout",
     "output_type": "stream",
     "text": [
      "[2, 4, 6, 8, 10]\n",
      "[1, 4, 9, 16, 25]\n"
     ]
    }
   ],
   "source": [
    "def process_numbers(numbers, callback):\n",
    "    res = [callback(num) for num in numbers]\n",
    "    return res\n",
    "\n",
    "numbers_list = [1, 2, 3, 4, 5]\n",
    "\n",
    "print(process_numbers(numbers_list, lambda x: x * 2))\n",
    "print(process_numbers(numbers_list, lambda x: x ** 2))"
   ]
  },
  {
   "cell_type": "markdown",
   "id": "e98bfc10",
   "metadata": {},
   "source": [
    "### Closures"
   ]
  },
  {
   "cell_type": "code",
   "execution_count": 87,
   "id": "d146db21",
   "metadata": {},
   "outputs": [
    {
     "name": "stdout",
     "output_type": "stream",
     "text": [
      "100\n",
      "1000\n"
     ]
    }
   ],
   "source": [
    "def exponatiate(x, y):\n",
    "    return x ** y\n",
    "\n",
    "def exponatiate_power(m):\n",
    "    return lambda x: exponatiate(x, m)\n",
    "\n",
    "square = exponatiate_power(2)\n",
    "print(square(10))\n",
    "\n",
    "cube = exponatiate_power(3)\n",
    "print(cube(10))\n"
   ]
  },
  {
   "cell_type": "markdown",
   "id": "36f9d4fd",
   "metadata": {},
   "source": [
    "### Higher-order functions"
   ]
  },
  {
   "cell_type": "markdown",
   "id": "bd668669",
   "metadata": {},
   "source": [
    "#### map"
   ]
  },
  {
   "cell_type": "code",
   "execution_count": 88,
   "id": "68fda422",
   "metadata": {},
   "outputs": [
    {
     "name": "stdout",
     "output_type": "stream",
     "text": [
      "[1, 4, 9, 16, 25]\n"
     ]
    }
   ],
   "source": [
    "'''\n",
    "Given a list of numbers, return thier squares\n",
    "'''\n",
    "\n",
    "# before\n",
    "def square(x):\n",
    "    return x**2\n",
    "\n",
    "numbers = [1,2,3,4,5]\n",
    "result = map(square, numbers)\n",
    "\n",
    "print(list(result))"
   ]
  },
  {
   "cell_type": "code",
   "execution_count": 89,
   "id": "d9b80234",
   "metadata": {},
   "outputs": [
    {
     "data": {
      "text/plain": [
       "[1, 4, 9, 16, 25]"
      ]
     },
     "execution_count": 89,
     "metadata": {},
     "output_type": "execute_result"
    }
   ],
   "source": [
    "# after\n",
    "nums = [1,2,3,4,5]\n",
    "res = list(map(lambda x:x**2, nums))\n",
    "res"
   ]
  },
  {
   "cell_type": "markdown",
   "id": "0f72ec7a",
   "metadata": {},
   "source": [
    "#### filter"
   ]
  },
  {
   "cell_type": "code",
   "execution_count": 90,
   "id": "75e0b120",
   "metadata": {},
   "outputs": [
    {
     "data": {
      "text/plain": [
       "[2, 4, 6, 8, 10]"
      ]
     },
     "execution_count": 90,
     "metadata": {},
     "output_type": "execute_result"
    }
   ],
   "source": [
    "'''Return even numbers from a list of numbers'''\n",
    "\n",
    "numbers = [1, 2, 3, 4, 5, 6, 7, 8, 9, 10]\n",
    "result = list(filter(lambda x: x % 2 == 0 , numbers))\n",
    "result"
   ]
  },
  {
   "cell_type": "markdown",
   "id": "e232c041",
   "metadata": {},
   "source": [
    "#### reduce"
   ]
  },
  {
   "cell_type": "code",
   "execution_count": 91,
   "id": "23322f87",
   "metadata": {},
   "outputs": [
    {
     "data": {
      "text/plain": [
       "55"
      ]
     },
     "execution_count": 91,
     "metadata": {},
     "output_type": "execute_result"
    }
   ],
   "source": [
    "from functools import reduce\n",
    "\n",
    "'''Given a list of numbers,return the sum of the squares '''\n",
    "\n",
    "def add(x,y):\n",
    "    return x + y\n",
    "\n",
    "numbers = [1, 2, 3, 4, 5] \n",
    "result = reduce(add, map(lambda x: x**2, numbers))\n",
    "result"
   ]
  },
  {
   "cell_type": "markdown",
   "id": "648c4536",
   "metadata": {},
   "source": [
    "### Advanced techniques"
   ]
  },
  {
   "cell_type": "code",
   "execution_count": 92,
   "id": "fd575240",
   "metadata": {},
   "outputs": [
    {
     "name": "stdout",
     "output_type": "stream",
     "text": [
      "a ['apple', 'avoc']\n",
      "b ['banana', 'berry']\n",
      "c ['cherry']\n",
      "d ['date']\n",
      "e ['elderberry']\n"
     ]
    }
   ],
   "source": [
    "import itertools\n",
    "\n",
    "# Example data\n",
    "data = [\"apple\", \"avoc\", \"banana\", \"cherry\", \"date\", \"elderberry\", \"berry\"]\n",
    "data.sort()\n",
    "\n",
    "# Grouping by the first letter\n",
    "groups = itertools.groupby(data, key=lambda x: x[0])\n",
    "\n",
    "for key, group in groups:\n",
    "    print(key, list(group))"
   ]
  },
  {
   "cell_type": "code",
   "execution_count": 93,
   "id": "c2dd0336",
   "metadata": {},
   "outputs": [
    {
     "data": {
      "text/plain": [
       "itertools.groupby"
      ]
     },
     "execution_count": 93,
     "metadata": {},
     "output_type": "execute_result"
    }
   ],
   "source": [
    "type(groups)"
   ]
  },
  {
   "cell_type": "code",
   "execution_count": 94,
   "id": "e95b00b9",
   "metadata": {},
   "outputs": [],
   "source": [
    "for i, group in groups:\n",
    "    print(i, group)"
   ]
  },
  {
   "cell_type": "code",
   "execution_count": null,
   "id": "9bcb5b14",
   "metadata": {},
   "outputs": [],
   "source": []
  }
 ],
 "metadata": {
  "kernelspec": {
   "display_name": "Python 3 (ipykernel)",
   "language": "python",
   "name": "python3"
  },
  "language_info": {
   "codemirror_mode": {
    "name": "ipython",
    "version": 3
   },
   "file_extension": ".py",
   "mimetype": "text/x-python",
   "name": "python",
   "nbconvert_exporter": "python",
   "pygments_lexer": "ipython3",
   "version": "3.11.3"
  }
 },
 "nbformat": 4,
 "nbformat_minor": 5
}
