{
 "cells": [
  {
   "cell_type": "markdown",
   "id": "5ef2d250",
   "metadata": {},
   "source": [
    "# Lambda functions tutorial\n",
    "\n",
    "Here we learn about anonymous functions in python commonly known as lambda functions\n",
    "\n",
    "**Syntax**\n",
    "```\n",
    "    lambda arguments : expression\n",
    "```\n",
    "\n",
    "```\n",
    "```"
   ]
  },
  {
   "cell_type": "markdown",
   "id": "87454fee",
   "metadata": {},
   "source": [
    "### Lambda syntax eith example"
   ]
  },
  {
   "cell_type": "code",
   "execution_count": 9,
   "id": "727e4d65",
   "metadata": {},
   "outputs": [
    {
     "name": "stdout",
     "output_type": "stream",
     "text": [
      "5\n",
      "5\n"
     ]
    }
   ],
   "source": [
    "#Example 1: return 5\n",
    "\n",
    "#before\n",
    "def five():\n",
    "    return 5\n",
    "\n",
    "#after\n",
    "a = lambda:5\n",
    "\n",
    "print(five())\n",
    "print(a())"
   ]
  },
  {
   "cell_type": "code",
   "execution_count": 10,
   "id": "8254de8c",
   "metadata": {},
   "outputs": [
    {
     "name": "stdout",
     "output_type": "stream",
     "text": [
      "5\n",
      "5\n"
     ]
    }
   ],
   "source": [
    "#Example 2:\n",
    "\n",
    "#before\n",
    "def add(x,y):\n",
    "    return x + y\n",
    "\n",
    "#after\n",
    "added = lambda x, y : x + y\n",
    "\n",
    "print(add(3,2))\n",
    "print(added(3,2))"
   ]
  },
  {
   "cell_type": "code",
   "execution_count": 1,
   "id": "0a0fca7f",
   "metadata": {},
   "outputs": [
    {
     "data": {
      "text/plain": [
       "4"
      ]
     },
     "execution_count": 1,
     "metadata": {},
     "output_type": "execute_result"
    }
   ],
   "source": [
    "#Example 3:\n",
    "\n",
    "#before\n",
    "def double(x):\n",
    "    return x*2\n",
    "\n",
    "double(2)\n",
    "\n",
    "#after\n",
    "doubler=lambda x : x*2\n",
    "doubler(2)"
   ]
  },
  {
   "cell_type": "code",
   "execution_count": 11,
   "id": "054b201e",
   "metadata": {},
   "outputs": [
    {
     "name": "stdout",
     "output_type": "stream",
     "text": [
      "True\n",
      "True\n"
     ]
    }
   ],
   "source": [
    "#Example 4:\n",
    "\n",
    "#before\n",
    "def is_even(num):\n",
    "    if num % 2 == 0:\n",
    "        return True\n",
    "    return False\n",
    "\n",
    "#after\n",
    "even = lambda num: num % 2 == 0\n",
    "\n",
    "print(is_even(8))\n",
    "print(even(8))"
   ]
  },
  {
   "cell_type": "markdown",
   "id": "895e481e",
   "metadata": {},
   "source": [
    "## Use Cases"
   ]
  },
  {
   "cell_type": "markdown",
   "id": "83405a4b",
   "metadata": {},
   "source": [
    "### Sorting\n"
   ]
  },
  {
   "cell_type": "code",
   "execution_count": 23,
   "id": "cabc2d24",
   "metadata": {},
   "outputs": [
    {
     "data": {
      "text/plain": [
       "['Desk', 'bag', 'bike', 'car', 'cup', 'deck', 'laptop']"
      ]
     },
     "execution_count": 23,
     "metadata": {},
     "output_type": "execute_result"
    }
   ],
   "source": [
    "x = ['cup', 'bag', 'car', 'deck', 'bike', 'laptop', 'Desk']\n",
    "x.sort()\n",
    "x"
   ]
  },
  {
   "cell_type": "code",
   "execution_count": 28,
   "id": "9d6ed21b",
   "metadata": {},
   "outputs": [
    {
     "data": {
      "text/plain": [
       "['bag', 'bike', 'car', 'cup', 'deck', 'Desk', 'laptop']"
      ]
     },
     "execution_count": 28,
     "metadata": {},
     "output_type": "execute_result"
    }
   ],
   "source": [
    "a = ['cup', 'bag', 'car', 'deck', 'bike', 'laptop', 'Desk']\n",
    "a.sort(key=lambda x:x.lower())\n",
    "a"
   ]
  },
  {
   "cell_type": "code",
   "execution_count": null,
   "id": "28758fc0",
   "metadata": {},
   "outputs": [],
   "source": []
  },
  {
   "cell_type": "code",
   "execution_count": 31,
   "id": "6c0d88c3",
   "metadata": {},
   "outputs": [
    {
     "data": {
      "text/plain": [
       "['bag', 'car', 'cup', 'bike', 'deck', 'Desk', 'laptop']"
      ]
     },
     "execution_count": 31,
     "metadata": {},
     "output_type": "execute_result"
    }
   ],
   "source": [
    "b = ['cup', 'bag', 'car', 'deck', 'bike', 'laptop', 'Desk']\n",
    "b.sort(key=str.lower)\n",
    "b.sort(key=lambda x : len(x))\n",
    "b"
   ]
  },
  {
   "cell_type": "code",
   "execution_count": 32,
   "id": "61e6db59",
   "metadata": {},
   "outputs": [
    {
     "data": {
      "text/plain": [
       "['bag', 'car', 'cup', 'bike', 'deck', 'Desk', 'laptop']"
      ]
     },
     "execution_count": 32,
     "metadata": {},
     "output_type": "execute_result"
    }
   ],
   "source": [
    "items = ['cup', 'bag', 'car', 'deck', 'bike', 'laptop', 'Desk']\n",
    "items.sort(key=lambda x: (len(x), x.lower()))\n",
    "items"
   ]
  },
  {
   "cell_type": "code",
   "execution_count": 33,
   "id": "749ec5ab",
   "metadata": {},
   "outputs": [
    {
     "data": {
      "text/plain": [
       "[5.09, 11, 'number']"
      ]
     },
     "execution_count": 33,
     "metadata": {},
     "output_type": "execute_result"
    }
   ],
   "source": [
    "a_list = [11, 'number', 5.09]\n",
    "a_list.sort(key=lambda x: x.__class__.__name__)\n",
    "\n",
    "a_list"
   ]
  },
  {
   "cell_type": "code",
   "execution_count": null,
   "id": "a2337bdd",
   "metadata": {},
   "outputs": [],
   "source": []
  }
 ],
 "metadata": {
  "kernelspec": {
   "display_name": "Python 3 (ipykernel)",
   "language": "python",
   "name": "python3"
  },
  "language_info": {
   "codemirror_mode": {
    "name": "ipython",
    "version": 3
   },
   "file_extension": ".py",
   "mimetype": "text/x-python",
   "name": "python",
   "nbconvert_exporter": "python",
   "pygments_lexer": "ipython3",
   "version": "3.11.3"
  }
 },
 "nbformat": 4,
 "nbformat_minor": 5
}
