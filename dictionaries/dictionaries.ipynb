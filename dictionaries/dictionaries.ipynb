{
 "cells": [
  {
   "cell_type": "markdown",
   "id": "2c33fd57",
   "metadata": {},
   "source": [
    "# Dictionaries\n"
   ]
  },
  {
   "cell_type": "markdown",
   "id": "347a4da0",
   "metadata": {},
   "source": [
    "## Empty dictionary"
   ]
  },
  {
   "cell_type": "code",
   "execution_count": 1,
   "id": "9abb41b1",
   "metadata": {},
   "outputs": [
    {
     "data": {
      "text/plain": [
       "{}"
      ]
     },
     "execution_count": 1,
     "metadata": {},
     "output_type": "execute_result"
    }
   ],
   "source": [
    "# Creating an empty dictionary\n",
    "\n",
    "a_dict = {}\n",
    "\n",
    "a_dict"
   ]
  },
  {
   "cell_type": "code",
   "execution_count": 2,
   "id": "be23e7cb",
   "metadata": {},
   "outputs": [
    {
     "data": {
      "text/plain": [
       "{}"
      ]
     },
     "execution_count": 2,
     "metadata": {},
     "output_type": "execute_result"
    }
   ],
   "source": [
    "# Creating an empty dictionary\n",
    "\n",
    "b_dict = dict()\n",
    "\n",
    "b_dict\n"
   ]
  },
  {
   "cell_type": "code",
   "execution_count": 4,
   "id": "05aeb169",
   "metadata": {},
   "outputs": [
    {
     "name": "stdout",
     "output_type": "stream",
     "text": [
      "<class 'dict'>\n",
      "<class 'dict'>\n"
     ]
    }
   ],
   "source": [
    "print(type(a_dict))\n",
    "print(type(b_dict))"
   ]
  },
  {
   "cell_type": "markdown",
   "id": "7cc2794d",
   "metadata": {},
   "source": [
    "## From a list of tuples"
   ]
  },
  {
   "cell_type": "code",
   "execution_count": 5,
   "id": "2db018ca",
   "metadata": {},
   "outputs": [
    {
     "data": {
      "text/plain": [
       "{'Cartman': 12, 'Stan': 11, 'Kyle': 9, 'Kenny': 10}"
      ]
     },
     "execution_count": 5,
     "metadata": {},
     "output_type": "execute_result"
    }
   ],
   "source": [
    "students = dict([\n",
    "    ('Cartman',12),\n",
    "    ('Stan',11),\n",
    "    ('Kyle',9),\n",
    "    ('Kenny',10)\n",
    "])\n",
    "\n",
    "students"
   ]
  },
  {
   "cell_type": "code",
   "execution_count": 6,
   "id": "407d3cb6",
   "metadata": {},
   "outputs": [
    {
     "data": {
      "text/plain": [
       "{'Cartman': 12, 'Stan': 11, 'Kyle': 9, 'Kenny': 10}"
      ]
     },
     "execution_count": 6,
     "metadata": {},
     "output_type": "execute_result"
    }
   ],
   "source": [
    "students = dict([\n",
    "    ['Cartman',12],\n",
    "    ['Stan',11],\n",
    "    ['Kyle',9],\n",
    "    ['Kenny',10]\n",
    "])\n",
    "\n",
    "students"
   ]
  },
  {
   "cell_type": "code",
   "execution_count": 9,
   "id": "83baa580",
   "metadata": {},
   "outputs": [
    {
     "data": {
      "text/plain": [
       "{'cartman': 12, 'stan': 11, 'kyle': 9, 'kenny': 10}"
      ]
     },
     "execution_count": 9,
     "metadata": {},
     "output_type": "execute_result"
    }
   ],
   "source": [
    "students = dict(\n",
    "    cartman = 12,\n",
    "    stan = 11,\n",
    "    kyle = 9,\n",
    "    kenny = 10\n",
    ")\n",
    "\n",
    "students"
   ]
  },
  {
   "cell_type": "markdown",
   "id": "88634c59",
   "metadata": {},
   "source": [
    "#### Raise ValueError if length is not 2"
   ]
  },
  {
   "cell_type": "code",
   "execution_count": 7,
   "id": "c353f518",
   "metadata": {
    "scrolled": true
   },
   "outputs": [
    {
     "ename": "ValueError",
     "evalue": "dictionary update sequence element #0 has length 3; 2 is required",
     "output_type": "error",
     "traceback": [
      "\u001b[1;31m---------------------------------------------------------------------------\u001b[0m",
      "\u001b[1;31mValueError\u001b[0m                                Traceback (most recent call last)",
      "Cell \u001b[1;32mIn[7], line 1\u001b[0m\n\u001b[1;32m----> 1\u001b[0m students \u001b[38;5;241m=\u001b[39m \u001b[38;5;28;43mdict\u001b[39;49m\u001b[43m(\u001b[49m\u001b[43m[\u001b[49m\n\u001b[0;32m      2\u001b[0m \u001b[43m    \u001b[49m\u001b[43m[\u001b[49m\u001b[38;5;124;43m'\u001b[39;49m\u001b[38;5;124;43mCartman\u001b[39;49m\u001b[38;5;124;43m'\u001b[39;49m\u001b[43m,\u001b[49m\u001b[38;5;241;43m12\u001b[39;49m\u001b[43m,\u001b[49m\u001b[38;5;124;43m'\u001b[39;49m\u001b[38;5;124;43mEric\u001b[39;49m\u001b[38;5;124;43m'\u001b[39;49m\u001b[43m]\u001b[49m\u001b[43m,\u001b[49m\n\u001b[0;32m      3\u001b[0m \u001b[43m    \u001b[49m\u001b[43m[\u001b[49m\u001b[38;5;124;43m'\u001b[39;49m\u001b[38;5;124;43mStan\u001b[39;49m\u001b[38;5;124;43m'\u001b[39;49m\u001b[43m,\u001b[49m\u001b[38;5;241;43m11\u001b[39;49m\u001b[43m]\u001b[49m\u001b[43m,\u001b[49m\n\u001b[0;32m      4\u001b[0m \u001b[43m    \u001b[49m\u001b[43m[\u001b[49m\u001b[38;5;124;43m'\u001b[39;49m\u001b[38;5;124;43mKyle\u001b[39;49m\u001b[38;5;124;43m'\u001b[39;49m\u001b[43m,\u001b[49m\u001b[38;5;241;43m9\u001b[39;49m\u001b[43m]\u001b[49m\u001b[43m,\u001b[49m\n\u001b[0;32m      5\u001b[0m \u001b[43m    \u001b[49m\u001b[43m[\u001b[49m\u001b[38;5;124;43m'\u001b[39;49m\u001b[38;5;124;43mKenny\u001b[39;49m\u001b[38;5;124;43m'\u001b[39;49m\u001b[43m,\u001b[49m\u001b[38;5;241;43m10\u001b[39;49m\u001b[43m]\u001b[49m\n\u001b[0;32m      6\u001b[0m \u001b[43m]\u001b[49m\u001b[43m)\u001b[49m\n\u001b[0;32m      8\u001b[0m students\n",
      "\u001b[1;31mValueError\u001b[0m: dictionary update sequence element #0 has length 3; 2 is required"
     ]
    }
   ],
   "source": [
    "\n",
    "students = dict([\n",
    "    ['Cartman',12,'Eric'],\n",
    "    ['Stan',11],\n",
    "    ['Kyle',9],\n",
    "    ['Kenny',10]\n",
    "])\n",
    "\n",
    "students"
   ]
  },
  {
   "cell_type": "code",
   "execution_count": 8,
   "id": "039bd6b9",
   "metadata": {},
   "outputs": [
    {
     "ename": "ValueError",
     "evalue": "dictionary update sequence element #0 has length 1; 2 is required",
     "output_type": "error",
     "traceback": [
      "\u001b[1;31m---------------------------------------------------------------------------\u001b[0m",
      "\u001b[1;31mValueError\u001b[0m                                Traceback (most recent call last)",
      "Cell \u001b[1;32mIn[8], line 1\u001b[0m\n\u001b[1;32m----> 1\u001b[0m students \u001b[38;5;241m=\u001b[39m \u001b[38;5;28;43mdict\u001b[39;49m\u001b[43m(\u001b[49m\u001b[43m[\u001b[49m\n\u001b[0;32m      2\u001b[0m \u001b[43m    \u001b[49m\u001b[43m[\u001b[49m\u001b[38;5;124;43m'\u001b[39;49m\u001b[38;5;124;43mCartman\u001b[39;49m\u001b[38;5;124;43m'\u001b[39;49m\u001b[43m]\u001b[49m\u001b[43m,\u001b[49m\n\u001b[0;32m      3\u001b[0m \u001b[43m    \u001b[49m\u001b[43m[\u001b[49m\u001b[38;5;124;43m'\u001b[39;49m\u001b[38;5;124;43mStan\u001b[39;49m\u001b[38;5;124;43m'\u001b[39;49m\u001b[43m,\u001b[49m\u001b[38;5;241;43m11\u001b[39;49m\u001b[43m]\u001b[49m\u001b[43m,\u001b[49m\n\u001b[0;32m      4\u001b[0m \u001b[43m    \u001b[49m\u001b[43m[\u001b[49m\u001b[38;5;124;43m'\u001b[39;49m\u001b[38;5;124;43mKyle\u001b[39;49m\u001b[38;5;124;43m'\u001b[39;49m\u001b[43m,\u001b[49m\u001b[38;5;241;43m9\u001b[39;49m\u001b[43m]\u001b[49m\u001b[43m,\u001b[49m\n\u001b[0;32m      5\u001b[0m \u001b[43m    \u001b[49m\u001b[43m[\u001b[49m\u001b[38;5;124;43m'\u001b[39;49m\u001b[38;5;124;43mKenny\u001b[39;49m\u001b[38;5;124;43m'\u001b[39;49m\u001b[43m,\u001b[49m\u001b[38;5;241;43m10\u001b[39;49m\u001b[43m]\u001b[49m\n\u001b[0;32m      6\u001b[0m \u001b[43m]\u001b[49m\u001b[43m)\u001b[49m\n\u001b[0;32m      8\u001b[0m students\n",
      "\u001b[1;31mValueError\u001b[0m: dictionary update sequence element #0 has length 1; 2 is required"
     ]
    }
   ],
   "source": [
    "students = dict([\n",
    "    ['Cartman'],\n",
    "    ['Stan',11],\n",
    "    ['Kyle',9],\n",
    "    ['Kenny',10]\n",
    "])\n",
    "\n",
    "students"
   ]
  },
  {
   "cell_type": "markdown",
   "id": "414fb1c8",
   "metadata": {},
   "source": [
    "### Keys must be unique"
   ]
  },
  {
   "cell_type": "code",
   "execution_count": 1,
   "id": "fe9e6e1e",
   "metadata": {},
   "outputs": [
    {
     "data": {
      "text/plain": [
       "{'cartman': 30, 'stan': 11, 'kyle': 9, 'kenny': 10}"
      ]
     },
     "execution_count": 1,
     "metadata": {},
     "output_type": "execute_result"
    }
   ],
   "source": [
    "students = {\n",
    "    'cartman': 12, \n",
    "    'stan': 11, \n",
    "    'kyle': 9, \n",
    "    'kenny': 10,\n",
    "    'cartman':30 #new value replaces the old one\n",
    "           \n",
    "  }\n",
    "\n",
    "students"
   ]
  },
  {
   "cell_type": "markdown",
   "id": "720a15ef",
   "metadata": {},
   "source": [
    "### Immutable objects can be used as keys"
   ]
  },
  {
   "cell_type": "code",
   "execution_count": 13,
   "id": "06fa2ba8",
   "metadata": {},
   "outputs": [
    {
     "data": {
      "text/plain": [
       "{'cartman': 12,\n",
       " 'stan': 11,\n",
       " 'kyle': 9,\n",
       " 'kenny': 10,\n",
       " ('clyde', 'tolkien', 'kregg'): 12}"
      ]
     },
     "execution_count": 13,
     "metadata": {},
     "output_type": "execute_result"
    }
   ],
   "source": [
    "students = {\n",
    "    'cartman': 12, \n",
    "    'stan': 11, \n",
    "    'kyle': 9, \n",
    "    'kenny': 10,\n",
    "    ('clyde','tolkien','kregg'):12\n",
    "           \n",
    "  }\n",
    "\n",
    "students"
   ]
  },
  {
   "cell_type": "markdown",
   "id": "5db7e0df",
   "metadata": {},
   "source": [
    "### Cant use lists as keys"
   ]
  },
  {
   "cell_type": "code",
   "execution_count": 15,
   "id": "8c4298a1",
   "metadata": {},
   "outputs": [
    {
     "ename": "TypeError",
     "evalue": "unhashable type: 'list'",
     "output_type": "error",
     "traceback": [
      "\u001b[1;31m---------------------------------------------------------------------------\u001b[0m",
      "\u001b[1;31mTypeError\u001b[0m                                 Traceback (most recent call last)",
      "Cell \u001b[1;32mIn[15], line 1\u001b[0m\n\u001b[1;32m----> 1\u001b[0m students \u001b[38;5;241m=\u001b[39m {\n\u001b[0;32m      2\u001b[0m     \u001b[38;5;124m'\u001b[39m\u001b[38;5;124mcartman\u001b[39m\u001b[38;5;124m'\u001b[39m: \u001b[38;5;241m12\u001b[39m, \n\u001b[0;32m      3\u001b[0m     \u001b[38;5;124m'\u001b[39m\u001b[38;5;124mstan\u001b[39m\u001b[38;5;124m'\u001b[39m: \u001b[38;5;241m11\u001b[39m, \n\u001b[0;32m      4\u001b[0m     \u001b[38;5;124m'\u001b[39m\u001b[38;5;124mkyle\u001b[39m\u001b[38;5;124m'\u001b[39m: \u001b[38;5;241m9\u001b[39m, \n\u001b[0;32m      5\u001b[0m     \u001b[38;5;124m'\u001b[39m\u001b[38;5;124mkenny\u001b[39m\u001b[38;5;124m'\u001b[39m: \u001b[38;5;241m10\u001b[39m,\n\u001b[0;32m      6\u001b[0m     (\u001b[38;5;124m'\u001b[39m\u001b[38;5;124mclyde\u001b[39m\u001b[38;5;124m'\u001b[39m,\u001b[38;5;124m'\u001b[39m\u001b[38;5;124mtolkien\u001b[39m\u001b[38;5;124m'\u001b[39m,\u001b[38;5;124m'\u001b[39m\u001b[38;5;124mkregg\u001b[39m\u001b[38;5;124m'\u001b[39m):\u001b[38;5;241m12\u001b[39m,\n\u001b[0;32m      7\u001b[0m     [\u001b[38;5;124m'\u001b[39m\u001b[38;5;124mchef\u001b[39m\u001b[38;5;124m'\u001b[39m,\u001b[38;5;124m'\u001b[39m\u001b[38;5;124mgarrison\u001b[39m\u001b[38;5;124m'\u001b[39m]:\u001b[38;5;241m40\u001b[39m  \u001b[38;5;66;03m# unhasble value list\u001b[39;00m\n\u001b[0;32m      8\u001b[0m            \n\u001b[0;32m      9\u001b[0m   }\n\u001b[0;32m     11\u001b[0m students\n",
      "\u001b[1;31mTypeError\u001b[0m: unhashable type: 'list'"
     ]
    }
   ],
   "source": [
    "students = {\n",
    "    'cartman': 12, \n",
    "    'stan': 11, \n",
    "    'kyle': 9, \n",
    "    'kenny': 10,\n",
    "    ('clyde','tolkien','kregg'):12,\n",
    "    ['chef','garrison']:40  # unhasble value list\n",
    "           \n",
    "  }\n",
    "\n",
    "students"
   ]
  },
  {
   "cell_type": "code",
   "execution_count": 3,
   "id": "98a8c1dd",
   "metadata": {},
   "outputs": [],
   "source": [
    "def add(a,b):\n",
    "    return a + b\n",
    "\n"
   ]
  },
  {
   "cell_type": "code",
   "execution_count": 4,
   "id": "370c892a",
   "metadata": {},
   "outputs": [
    {
     "data": {
      "text/plain": [
       "{<function __main__.add(a, b)>: 3, 'sum': 4}"
      ]
     },
     "execution_count": 4,
     "metadata": {},
     "output_type": "execute_result"
    }
   ],
   "source": [
    "d = {add:3,'sum':4}\n",
    "\n",
    "d"
   ]
  },
  {
   "cell_type": "markdown",
   "id": "3a528e2a",
   "metadata": {},
   "source": [
    "## Operations and Builtin methods"
   ]
  },
  {
   "cell_type": "markdown",
   "id": "de3aafa1",
   "metadata": {},
   "source": [
    "### Add Items ( d[key] = value )"
   ]
  },
  {
   "cell_type": "code",
   "execution_count": 7,
   "id": "7da97828",
   "metadata": {},
   "outputs": [
    {
     "data": {
      "text/plain": [
       "{'model': '1998', 'manufacturer': 'ford', 'class': 'sedan'}"
      ]
     },
     "execution_count": 7,
     "metadata": {},
     "output_type": "execute_result"
    }
   ],
   "source": [
    "car = {}\n",
    "\n",
    "car['model'] = '1998'\n",
    "car['manufacturer'] = 'ford'\n",
    "car['class'] = 'sedan'\n",
    "\n",
    "car"
   ]
  },
  {
   "cell_type": "markdown",
   "id": "89a03670",
   "metadata": {},
   "source": [
    "### Update items ( d[key] = value )"
   ]
  },
  {
   "cell_type": "code",
   "execution_count": 2,
   "id": "a8cd4b48",
   "metadata": {
    "scrolled": true
   },
   "outputs": [
    {
     "data": {
      "text/plain": [
       "{'model': 2022, 'manufacturer': 'ford', 'class': 'sedan'}"
      ]
     },
     "execution_count": 2,
     "metadata": {},
     "output_type": "execute_result"
    }
   ],
   "source": [
    "car = {'model': '1998', 'manufacturer': 'ford', 'class': 'sedan'}\n",
    "\n",
    "car['model'] = 2022\n",
    "\n",
    "car"
   ]
  },
  {
   "cell_type": "code",
   "execution_count": 9,
   "id": "650dd40c",
   "metadata": {},
   "outputs": [
    {
     "data": {
      "text/plain": [
       "{'model': 2022, 'manufacturer': 'ford', 'class': 'sedan', 'engine': '5.4 L'}"
      ]
     },
     "execution_count": 9,
     "metadata": {},
     "output_type": "execute_result"
    }
   ],
   "source": [
    "car['engine'] = '5.4 L'\n",
    "car"
   ]
  },
  {
   "cell_type": "markdown",
   "id": "e61410ba",
   "metadata": {},
   "source": [
    "### Set default value to key (setdefault(key[,default]))"
   ]
  },
  {
   "cell_type": "code",
   "execution_count": 53,
   "id": "ea5082f1",
   "metadata": {
    "scrolled": true
   },
   "outputs": [
    {
     "data": {
      "text/plain": [
       "{'model': '1998', 'manufacturer': 'ford', 'class': 'sedan', 'engine': '4.2 L'}"
      ]
     },
     "execution_count": 53,
     "metadata": {},
     "output_type": "execute_result"
    }
   ],
   "source": [
    "car = {'model': '1998', 'manufacturer': 'ford', 'class': 'sedan'}\n",
    "\n",
    "car.setdefault('engine','4.2 L')\n",
    "\n",
    "car"
   ]
  },
  {
   "cell_type": "code",
   "execution_count": 54,
   "id": "4dab52d1",
   "metadata": {},
   "outputs": [
    {
     "data": {
      "text/plain": [
       "{'model': '1998', 'manufacturer': 'ford', 'class': 'sedan', 'engine': '4.2 L'}"
      ]
     },
     "execution_count": 54,
     "metadata": {},
     "output_type": "execute_result"
    }
   ],
   "source": [
    "car.setdefault('class','two-door')\n",
    "car"
   ]
  },
  {
   "cell_type": "markdown",
   "id": "351fb731",
   "metadata": {},
   "source": [
    "### Delete items ( del d[key] )"
   ]
  },
  {
   "cell_type": "code",
   "execution_count": 10,
   "id": "187612fe",
   "metadata": {},
   "outputs": [
    {
     "data": {
      "text/plain": [
       "{'model': 2022, 'manufacturer': 'ford', 'engine': '5.4 L'}"
      ]
     },
     "execution_count": 10,
     "metadata": {},
     "output_type": "execute_result"
    }
   ],
   "source": [
    "del car['class']\n",
    "car"
   ]
  },
  {
   "cell_type": "code",
   "execution_count": 11,
   "id": "af29b092",
   "metadata": {
    "scrolled": true
   },
   "outputs": [
    {
     "ename": "KeyError",
     "evalue": "'class'",
     "output_type": "error",
     "traceback": [
      "\u001b[1;31m---------------------------------------------------------------------------\u001b[0m",
      "\u001b[1;31mKeyError\u001b[0m                                  Traceback (most recent call last)",
      "Cell \u001b[1;32mIn[11], line 1\u001b[0m\n\u001b[1;32m----> 1\u001b[0m \u001b[38;5;28;01mdel\u001b[39;00m \u001b[43mcar\u001b[49m\u001b[43m[\u001b[49m\u001b[38;5;124;43m'\u001b[39;49m\u001b[38;5;124;43mclass\u001b[39;49m\u001b[38;5;124;43m'\u001b[39;49m\u001b[43m]\u001b[49m\n\u001b[0;32m      2\u001b[0m car\n",
      "\u001b[1;31mKeyError\u001b[0m: 'class'"
     ]
    }
   ],
   "source": [
    "del car['class']\n",
    "car"
   ]
  },
  {
   "cell_type": "markdown",
   "id": "1b397a1a",
   "metadata": {},
   "source": [
    "### List keys ( list(d) )"
   ]
  },
  {
   "cell_type": "code",
   "execution_count": 12,
   "id": "5fb363a7",
   "metadata": {},
   "outputs": [
    {
     "data": {
      "text/plain": [
       "['model', 'manufacturer', 'engine']"
      ]
     },
     "execution_count": 12,
     "metadata": {},
     "output_type": "execute_result"
    }
   ],
   "source": [
    "list(car)"
   ]
  },
  {
   "cell_type": "code",
   "execution_count": 13,
   "id": "37f8ad7c",
   "metadata": {},
   "outputs": [
    {
     "data": {
      "text/plain": [
       "['engine', 'manufacturer', 'model']"
      ]
     },
     "execution_count": 13,
     "metadata": {},
     "output_type": "execute_result"
    }
   ],
   "source": [
    "sorted(car)"
   ]
  },
  {
   "cell_type": "code",
   "execution_count": 23,
   "id": "1b67fe42",
   "metadata": {},
   "outputs": [
    {
     "name": "stdout",
     "output_type": "stream",
     "text": [
      "<class 'dict_keys'>\n"
     ]
    }
   ],
   "source": [
    "print(type(car.keys()))"
   ]
  },
  {
   "cell_type": "code",
   "execution_count": 24,
   "id": "db8c397a",
   "metadata": {},
   "outputs": [
    {
     "name": "stdout",
     "output_type": "stream",
     "text": [
      "<class 'dict_values'>\n"
     ]
    }
   ],
   "source": [
    "print(type(car.values()))"
   ]
  },
  {
   "cell_type": "markdown",
   "id": "7e8ad892",
   "metadata": {},
   "source": [
    "### Number of items ( len(d) )"
   ]
  },
  {
   "cell_type": "code",
   "execution_count": 14,
   "id": "315763d8",
   "metadata": {},
   "outputs": [
    {
     "data": {
      "text/plain": [
       "3"
      ]
     },
     "execution_count": 14,
     "metadata": {},
     "output_type": "execute_result"
    }
   ],
   "source": [
    "len(car)"
   ]
  },
  {
   "cell_type": "markdown",
   "id": "3baed3f8",
   "metadata": {},
   "source": [
    "### get() method\n"
   ]
  },
  {
   "cell_type": "code",
   "execution_count": 16,
   "id": "84f558da",
   "metadata": {},
   "outputs": [
    {
     "name": "stdout",
     "output_type": "stream",
     "text": [
      "None\n"
     ]
    }
   ],
   "source": [
    "print(car.get('type'))"
   ]
  },
  {
   "cell_type": "code",
   "execution_count": 17,
   "id": "362f2946",
   "metadata": {},
   "outputs": [
    {
     "name": "stdout",
     "output_type": "stream",
     "text": [
      "two-door\n"
     ]
    }
   ],
   "source": [
    "print(car.get('type','two-door'))"
   ]
  },
  {
   "cell_type": "code",
   "execution_count": 18,
   "id": "7af166fd",
   "metadata": {},
   "outputs": [
    {
     "data": {
      "text/plain": [
       "{'model': 2022, 'manufacturer': 'ford', 'engine': '5.4 L'}"
      ]
     },
     "execution_count": 18,
     "metadata": {},
     "output_type": "execute_result"
    }
   ],
   "source": [
    "car  # type is not stored"
   ]
  },
  {
   "cell_type": "code",
   "execution_count": 19,
   "id": "f7f04670",
   "metadata": {},
   "outputs": [
    {
     "name": "stdout",
     "output_type": "stream",
     "text": [
      "2022\n"
     ]
    }
   ],
   "source": [
    "print(car.get('model','Tom'))"
   ]
  },
  {
   "cell_type": "markdown",
   "id": "268eb3a2",
   "metadata": {},
   "source": [
    "### Check if key exists ( key in d, key not in d)"
   ]
  },
  {
   "cell_type": "code",
   "execution_count": 3,
   "id": "2873ea12",
   "metadata": {},
   "outputs": [
    {
     "data": {
      "text/plain": [
       "True"
      ]
     },
     "execution_count": 3,
     "metadata": {},
     "output_type": "execute_result"
    }
   ],
   "source": [
    "'model' in car"
   ]
  },
  {
   "cell_type": "code",
   "execution_count": 4,
   "id": "aa4e919c",
   "metadata": {},
   "outputs": [
    {
     "data": {
      "text/plain": [
       "{'model': 2022, 'manufacturer': 'ford', 'class': 'sedan'}"
      ]
     },
     "execution_count": 4,
     "metadata": {},
     "output_type": "execute_result"
    }
   ],
   "source": [
    "car\n"
   ]
  },
  {
   "cell_type": "code",
   "execution_count": 6,
   "id": "3f24f658",
   "metadata": {},
   "outputs": [
    {
     "data": {
      "text/plain": [
       "False"
      ]
     },
     "execution_count": 6,
     "metadata": {},
     "output_type": "execute_result"
    }
   ],
   "source": [
    "'type' in car\n"
   ]
  },
  {
   "cell_type": "code",
   "execution_count": 7,
   "id": "c7dbc2cc",
   "metadata": {},
   "outputs": [
    {
     "data": {
      "text/plain": [
       "True"
      ]
     },
     "execution_count": 7,
     "metadata": {},
     "output_type": "execute_result"
    }
   ],
   "source": [
    "'type' not in car"
   ]
  },
  {
   "cell_type": "code",
   "execution_count": 8,
   "id": "45f2d477",
   "metadata": {},
   "outputs": [
    {
     "data": {
      "text/plain": [
       "True"
      ]
     },
     "execution_count": 8,
     "metadata": {},
     "output_type": "execute_result"
    }
   ],
   "source": [
    "not 'type' in car"
   ]
  },
  {
   "cell_type": "markdown",
   "id": "eb7c780e",
   "metadata": {},
   "source": [
    "### pop item ( pop() )"
   ]
  },
  {
   "cell_type": "code",
   "execution_count": 35,
   "id": "b9c0bc3e",
   "metadata": {},
   "outputs": [
    {
     "data": {
      "text/plain": [
       "'sedan'"
      ]
     },
     "execution_count": 35,
     "metadata": {},
     "output_type": "execute_result"
    }
   ],
   "source": [
    "car = {\n",
    "    'model': 2022, \n",
    "    'manufacturer': 'ford', \n",
    "    'class': 'sedan', \n",
    "    'engine': '4.0 L'\n",
    "}\n",
    "\n",
    "car.pop('class')"
   ]
  },
  {
   "cell_type": "code",
   "execution_count": 37,
   "id": "d84c69af",
   "metadata": {},
   "outputs": [
    {
     "data": {
      "text/plain": [
       "{'model': 2022, 'manufacturer': 'ford', 'engine': '4.0 L'}"
      ]
     },
     "execution_count": 37,
     "metadata": {},
     "output_type": "execute_result"
    }
   ],
   "source": [
    "car"
   ]
  },
  {
   "cell_type": "code",
   "execution_count": 39,
   "id": "bf9acffd",
   "metadata": {},
   "outputs": [
    {
     "data": {
      "text/plain": [
       "'two-door'"
      ]
     },
     "execution_count": 39,
     "metadata": {},
     "output_type": "execute_result"
    }
   ],
   "source": [
    "car.pop('class','two-door')"
   ]
  },
  {
   "cell_type": "markdown",
   "id": "ff241562",
   "metadata": {},
   "source": [
    "### Remove and Return key:value ( popitem() )"
   ]
  },
  {
   "cell_type": "code",
   "execution_count": 41,
   "id": "47698cc8",
   "metadata": {},
   "outputs": [
    {
     "data": {
      "text/plain": [
       "{'model': 2022, 'manufacturer': 'ford', 'engine': '4.0 L'}"
      ]
     },
     "execution_count": 41,
     "metadata": {},
     "output_type": "execute_result"
    }
   ],
   "source": [
    "car"
   ]
  },
  {
   "cell_type": "code",
   "execution_count": 42,
   "id": "b6a67b11",
   "metadata": {},
   "outputs": [
    {
     "data": {
      "text/plain": [
       "('engine', '4.0 L')"
      ]
     },
     "execution_count": 42,
     "metadata": {},
     "output_type": "execute_result"
    }
   ],
   "source": [
    "car.popitem()"
   ]
  },
  {
   "cell_type": "code",
   "execution_count": 43,
   "id": "9067995c",
   "metadata": {},
   "outputs": [
    {
     "data": {
      "text/plain": [
       "{'model': 2022, 'manufacturer': 'ford'}"
      ]
     },
     "execution_count": 43,
     "metadata": {},
     "output_type": "execute_result"
    }
   ],
   "source": [
    "car"
   ]
  },
  {
   "cell_type": "code",
   "execution_count": 44,
   "id": "1525a345",
   "metadata": {},
   "outputs": [
    {
     "data": {
      "text/plain": [
       "('manufacturer', 'ford')"
      ]
     },
     "execution_count": 44,
     "metadata": {},
     "output_type": "execute_result"
    }
   ],
   "source": [
    "car.popitem()"
   ]
  },
  {
   "cell_type": "code",
   "execution_count": null,
   "id": "49357127",
   "metadata": {},
   "outputs": [],
   "source": []
  },
  {
   "cell_type": "markdown",
   "id": "8d7bc7d6",
   "metadata": {},
   "source": [
    "### Clear all items in dictionary ( d.clear() )"
   ]
  },
  {
   "cell_type": "code",
   "execution_count": 29,
   "id": "a6687879",
   "metadata": {},
   "outputs": [
    {
     "data": {
      "text/plain": [
       "{'model': 2022, 'manufacturer': 'ford', 'class': 'sedan', 'engine': '4.0 L'}"
      ]
     },
     "execution_count": 29,
     "metadata": {},
     "output_type": "execute_result"
    }
   ],
   "source": [
    "car = {\n",
    "    'model': 2022, \n",
    "    'manufacturer': 'ford', \n",
    "    'class': 'sedan', \n",
    "    'engine': '4.0 L'\n",
    "}\n",
    "\n",
    "car"
   ]
  },
  {
   "cell_type": "code",
   "execution_count": 31,
   "id": "edbac130",
   "metadata": {},
   "outputs": [],
   "source": [
    "car.clear()"
   ]
  },
  {
   "cell_type": "code",
   "execution_count": 28,
   "id": "7ba713f5",
   "metadata": {},
   "outputs": [
    {
     "data": {
      "text/plain": [
       "{}"
      ]
     },
     "execution_count": 28,
     "metadata": {},
     "output_type": "execute_result"
    }
   ],
   "source": [
    "car"
   ]
  },
  {
   "cell_type": "markdown",
   "id": "9aebb8a1",
   "metadata": {},
   "source": [
    "### Copy items. ( copy() )"
   ]
  },
  {
   "cell_type": "code",
   "execution_count": 64,
   "id": "c7b1e7cb",
   "metadata": {},
   "outputs": [
    {
     "data": {
      "text/plain": [
       "{'model': 2022, 'manufacturer': 'ford', 'class': 'sedan', 'engine': '4.0 L'}"
      ]
     },
     "execution_count": 64,
     "metadata": {},
     "output_type": "execute_result"
    }
   ],
   "source": [
    "car = {\n",
    "    'model': 2022, \n",
    "    'manufacturer': 'ford', \n",
    "    'class': 'sedan', \n",
    "    'engine': '4.0 L'\n",
    "}\n",
    "\n",
    "truck = car.copy()\n",
    "\n",
    "truck"
   ]
  },
  {
   "cell_type": "code",
   "execution_count": 65,
   "id": "705796ce",
   "metadata": {},
   "outputs": [
    {
     "name": "stdout",
     "output_type": "stream",
     "text": [
      "{'model': 2012, 'manufacturer': 'ford', 'class': 'pick-up', 'engine': '4.0 L'}\n",
      "{'model': 2022, 'manufacturer': 'ford', 'class': 'sedan', 'engine': '4.0 L'}\n"
     ]
    }
   ],
   "source": [
    "truck['class'] = 'pick-up'\n",
    "truck['model'] = 2012\n",
    "\n",
    "print(truck)\n",
    "print(car)"
   ]
  },
  {
   "cell_type": "code",
   "execution_count": 45,
   "id": "fd511927",
   "metadata": {},
   "outputs": [
    {
     "data": {
      "text/plain": [
       "dict_items([('model', 2022)])"
      ]
     },
     "execution_count": 45,
     "metadata": {},
     "output_type": "execute_result"
    }
   ],
   "source": [
    "car.items()"
   ]
  },
  {
   "cell_type": "markdown",
   "id": "15ece1f9",
   "metadata": {},
   "source": [
    "### Returning an Iterator ( iter(d) , iter(d.keys()) )"
   ]
  },
  {
   "cell_type": "code",
   "execution_count": 55,
   "id": "6be666b7",
   "metadata": {},
   "outputs": [],
   "source": [
    "car = {\n",
    "    'model': 2022, \n",
    "    'manufacturer': 'ford', \n",
    "    'class': 'sedan', \n",
    "    'engine': '4.0 L'\n",
    "}"
   ]
  },
  {
   "cell_type": "code",
   "execution_count": 56,
   "id": "0622f626",
   "metadata": {},
   "outputs": [
    {
     "data": {
      "text/plain": [
       "<dict_keyiterator at 0x27bc6f8d710>"
      ]
     },
     "execution_count": 56,
     "metadata": {},
     "output_type": "execute_result"
    }
   ],
   "source": [
    "iter(car)"
   ]
  },
  {
   "cell_type": "code",
   "execution_count": 57,
   "id": "ed7813c3",
   "metadata": {},
   "outputs": [
    {
     "name": "stdout",
     "output_type": "stream",
     "text": [
      "model\n",
      "manufacturer\n",
      "class\n",
      "engine\n"
     ]
    }
   ],
   "source": [
    "for i in iter(car):\n",
    "    print(i)"
   ]
  },
  {
   "cell_type": "code",
   "execution_count": 58,
   "id": "fe46be11",
   "metadata": {},
   "outputs": [
    {
     "name": "stdout",
     "output_type": "stream",
     "text": [
      "model : 2022\n",
      "manufacturer : ford\n",
      "class : sedan\n",
      "engine : 4.0 L\n"
     ]
    }
   ],
   "source": [
    "for i in iter(car):\n",
    "       print(i, ':' , car[i])\n",
    "    "
   ]
  },
  {
   "cell_type": "code",
   "execution_count": 59,
   "id": "c328760a",
   "metadata": {},
   "outputs": [
    {
     "name": "stdout",
     "output_type": "stream",
     "text": [
      "model\n",
      "manufacturer\n",
      "class\n",
      "engine\n"
     ]
    }
   ],
   "source": [
    "for i in car.keys():\n",
    "    print(i)"
   ]
  },
  {
   "cell_type": "code",
   "execution_count": 60,
   "id": "f35c093a",
   "metadata": {
    "scrolled": true
   },
   "outputs": [
    {
     "name": "stdout",
     "output_type": "stream",
     "text": [
      "2022\n",
      "ford\n",
      "sedan\n",
      "4.0 L\n"
     ]
    }
   ],
   "source": [
    "for i in car.values():\n",
    "    print(i)"
   ]
  },
  {
   "cell_type": "code",
   "execution_count": 61,
   "id": "08db4855",
   "metadata": {
    "scrolled": true
   },
   "outputs": [
    {
     "name": "stdout",
     "output_type": "stream",
     "text": [
      "engine\n",
      "class\n",
      "manufacturer\n",
      "model\n"
     ]
    }
   ],
   "source": [
    "for i in reversed(car):\n",
    "    print(i)"
   ]
  },
  {
   "cell_type": "code",
   "execution_count": 63,
   "id": "16406265",
   "metadata": {
    "scrolled": true
   },
   "outputs": [
    {
     "name": "stdout",
     "output_type": "stream",
     "text": [
      "model\n",
      "manufacturer\n",
      "class\n",
      "engine\n"
     ]
    },
    {
     "ename": "StopIteration",
     "evalue": "",
     "output_type": "error",
     "traceback": [
      "\u001b[1;31m---------------------------------------------------------------------------\u001b[0m",
      "\u001b[1;31mStopIteration\u001b[0m                             Traceback (most recent call last)",
      "Cell \u001b[1;32mIn[63], line 7\u001b[0m\n\u001b[0;32m      5\u001b[0m \u001b[38;5;28mprint\u001b[39m(\u001b[38;5;28mnext\u001b[39m(car_loop))\n\u001b[0;32m      6\u001b[0m \u001b[38;5;28mprint\u001b[39m(\u001b[38;5;28mnext\u001b[39m(car_loop))\n\u001b[1;32m----> 7\u001b[0m \u001b[38;5;28mprint\u001b[39m(\u001b[38;5;28;43mnext\u001b[39;49m\u001b[43m(\u001b[49m\u001b[43mcar_loop\u001b[49m\u001b[43m)\u001b[49m)\n",
      "\u001b[1;31mStopIteration\u001b[0m: "
     ]
    }
   ],
   "source": [
    "car_loop = iter(car)\n",
    "\n",
    "print(next(car_loop))\n",
    "print(next(car_loop))\n",
    "print(next(car_loop))\n",
    "print(next(car_loop))\n",
    "print(next(car_loop)) # stop iteration "
   ]
  },
  {
   "cell_type": "markdown",
   "id": "7b02fd2b",
   "metadata": {},
   "source": [
    "### update dictionary ( update([other]) )"
   ]
  },
  {
   "cell_type": "code",
   "execution_count": 68,
   "id": "0f4fb2a9",
   "metadata": {},
   "outputs": [
    {
     "data": {
      "text/plain": [
       "{'model': 2023, 'manufacturer': 'bmw', 'class': 'sedan', 'engine': '3.2 L'}"
      ]
     },
     "execution_count": 68,
     "metadata": {},
     "output_type": "execute_result"
    }
   ],
   "source": [
    "car = {\n",
    "    'model': 2022, \n",
    "    'manufacturer': 'ford', \n",
    "    'class': 'sedan', \n",
    "    'engine': '4.0 L'\n",
    "}\n",
    "\n",
    "bmw = {\n",
    "    'model':2023,\n",
    "    'manufacturer':'bmw',\n",
    "    'engine':'3.2 L',\n",
    "}\n",
    "\n",
    "car.update(bmw)\n",
    "car"
   ]
  },
  {
   "cell_type": "markdown",
   "id": "c8d76d4e",
   "metadata": {},
   "source": [
    "### d | other"
   ]
  },
  {
   "cell_type": "code",
   "execution_count": 75,
   "id": "97b68ad1",
   "metadata": {},
   "outputs": [
    {
     "data": {
      "text/plain": [
       "{'a': 1, 'b': 2, 'c': 4, 'd': 5, 'e': 6}"
      ]
     },
     "execution_count": 75,
     "metadata": {},
     "output_type": "execute_result"
    }
   ],
   "source": [
    "dict_1 = {'a':1, 'b':2, 'c':3}\n",
    "dict_2 = {'c':4, 'd':5, 'e':6}\n",
    "\n",
    "dict_3 = dict_1 | dict_2\n",
    "\n",
    "dict_3"
   ]
  },
  {
   "cell_type": "code",
   "execution_count": 82,
   "id": "47e0df5c",
   "metadata": {},
   "outputs": [
    {
     "ename": "TypeError",
     "evalue": "unsupported operand type(s) for +: 'dict' and 'dict'",
     "output_type": "error",
     "traceback": [
      "\u001b[1;31m---------------------------------------------------------------------------\u001b[0m",
      "\u001b[1;31mTypeError\u001b[0m                                 Traceback (most recent call last)",
      "Cell \u001b[1;32mIn[82], line 1\u001b[0m\n\u001b[1;32m----> 1\u001b[0m dict_4 \u001b[38;5;241m=\u001b[39m {\u001b[43mdict_1\u001b[49m\u001b[43m \u001b[49m\u001b[38;5;241;43m+\u001b[39;49m\u001b[43m \u001b[49m\u001b[43mdict_2\u001b[49m}\n\u001b[0;32m      2\u001b[0m dict_4\n",
      "\u001b[1;31mTypeError\u001b[0m: unsupported operand type(s) for +: 'dict' and 'dict'"
     ]
    }
   ],
   "source": [
    "dict_4 = {**dict_1 , **dict_2}\n",
    "dict_4"
   ]
  },
  {
   "cell_type": "markdown",
   "id": "8fe2cd7c",
   "metadata": {},
   "source": [
    "### views "
   ]
  },
  {
   "cell_type": "code",
   "execution_count": 83,
   "id": "ec2eb5ce",
   "metadata": {},
   "outputs": [
    {
     "data": {
      "text/plain": [
       "{'model': 2023, 'manufacturer': 'bmw', 'class': 'sedan', 'engine': '3.2 L'}"
      ]
     },
     "execution_count": 83,
     "metadata": {},
     "output_type": "execute_result"
    }
   ],
   "source": [
    "car"
   ]
  },
  {
   "cell_type": "code",
   "execution_count": 85,
   "id": "be35dee6",
   "metadata": {},
   "outputs": [
    {
     "data": {
      "text/plain": [
       "dict_keys(['model', 'manufacturer', 'class', 'engine'])"
      ]
     },
     "execution_count": 85,
     "metadata": {},
     "output_type": "execute_result"
    }
   ],
   "source": [
    "car.keys()"
   ]
  },
  {
   "cell_type": "code",
   "execution_count": 86,
   "id": "db410371",
   "metadata": {},
   "outputs": [
    {
     "data": {
      "text/plain": [
       "dict_values([2023, 'bmw', 'sedan', '3.2 L'])"
      ]
     },
     "execution_count": 86,
     "metadata": {},
     "output_type": "execute_result"
    }
   ],
   "source": [
    "car.values()"
   ]
  },
  {
   "cell_type": "code",
   "execution_count": 87,
   "id": "f08f2d65",
   "metadata": {},
   "outputs": [
    {
     "data": {
      "text/plain": [
       "dict_items([('model', 2023), ('manufacturer', 'bmw'), ('class', 'sedan'), ('engine', '3.2 L')])"
      ]
     },
     "execution_count": 87,
     "metadata": {},
     "output_type": "execute_result"
    }
   ],
   "source": [
    "car.items()"
   ]
  },
  {
   "cell_type": "code",
   "execution_count": null,
   "id": "0c17d398",
   "metadata": {},
   "outputs": [],
   "source": []
  }
 ],
 "metadata": {
  "kernelspec": {
   "display_name": "Python 3 (ipykernel)",
   "language": "python",
   "name": "python3"
  },
  "language_info": {
   "codemirror_mode": {
    "name": "ipython",
    "version": 3
   },
   "file_extension": ".py",
   "mimetype": "text/x-python",
   "name": "python",
   "nbconvert_exporter": "python",
   "pygments_lexer": "ipython3",
   "version": "3.11.3"
  }
 },
 "nbformat": 4,
 "nbformat_minor": 5
}
