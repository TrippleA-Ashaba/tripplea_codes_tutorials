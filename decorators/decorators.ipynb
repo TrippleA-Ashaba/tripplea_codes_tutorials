{
 "cells": [
  {
   "cell_type": "markdown",
   "id": "f877345d",
   "metadata": {},
   "source": [
    "# Decorators"
   ]
  },
  {
   "cell_type": "markdown",
   "id": "13ac5f48",
   "metadata": {},
   "source": [
    "### To understand decorators, Understand functions"
   ]
  },
  {
   "cell_type": "code",
   "execution_count": null,
   "id": "046a9458",
   "metadata": {},
   "outputs": [],
   "source": [
    "# function\n",
    "def square(num):\n",
    "    return num ** 2\n",
    "\n",
    "square(3)"
   ]
  },
  {
   "cell_type": "markdown",
   "id": "3ef30ef4",
   "metadata": {},
   "source": [
    "## First-class objects"
   ]
  },
  {
   "cell_type": "markdown",
   "id": "7081c08f",
   "metadata": {},
   "source": [
    "### function as argument"
   ]
  },
  {
   "cell_type": "code",
   "execution_count": null,
   "id": "6ea48480",
   "metadata": {},
   "outputs": [],
   "source": [
    "def say_hi(name):\n",
    "    return f'Hello there, {name}!'\n",
    "\n",
    "def praise(name):\n",
    "    return f\"{name} is awesome!\"\n",
    "\n",
    "def greet_tom(func):\n",
    "    return func('Tom')\n",
    "\n",
    "greet_tom(say_hi)"
   ]
  },
  {
   "cell_type": "code",
   "execution_count": null,
   "id": "e14b0c1d",
   "metadata": {},
   "outputs": [],
   "source": [
    "greet_tom(praise)"
   ]
  },
  {
   "cell_type": "markdown",
   "id": "89c0e1d3",
   "metadata": {},
   "source": [
    "### functions inside functions"
   ]
  },
  {
   "cell_type": "code",
   "execution_count": null,
   "id": "3251e640",
   "metadata": {},
   "outputs": [],
   "source": [
    "def parent_func():\n",
    "    print(\"This is the parent function\")\n",
    "    \n",
    "    def second_child_func():\n",
    "        print(\"This is the second child function\")\n",
    "    \n",
    "    \n",
    "    def first_child_func():\n",
    "        print(\"This is the first child function\")\n",
    "\n",
    "    second_child_func()\n",
    "    first_child_func()\n",
    "    \n",
    "    \n",
    "    \n",
    "\n",
    "parent_func()"
   ]
  },
  {
   "cell_type": "markdown",
   "id": "f55f2ef5",
   "metadata": {},
   "source": [
    "### Return functions from functions"
   ]
  },
  {
   "cell_type": "code",
   "execution_count": null,
   "id": "c2862655",
   "metadata": {},
   "outputs": [],
   "source": [
    "def remains(num):\n",
    "    def even():\n",
    "        return 'What are remainders?'\n",
    "    def odd():\n",
    "        return 'I have remainders'\n",
    "    \n",
    "    if num % 2 == 0:\n",
    "        return even\n",
    "    else:\n",
    "        return odd\n",
    "\n",
    "is_even = remains(10)\n",
    "is_even()"
   ]
  },
  {
   "cell_type": "code",
   "execution_count": null,
   "id": "0e3052e6",
   "metadata": {},
   "outputs": [],
   "source": [
    "is_odd = remains(5)\n",
    "is_odd()"
   ]
  },
  {
   "cell_type": "markdown",
   "id": "d8f41ce7",
   "metadata": {},
   "source": [
    "### Simple decorator"
   ]
  },
  {
   "cell_type": "code",
   "execution_count": null,
   "id": "bdaceaf4",
   "metadata": {},
   "outputs": [],
   "source": [
    "def greeter_function():\n",
    "    def inner(name):\n",
    "        print(f'Hello {name}')\n",
    "    return inner\n",
    "\n",
    "@greeter_function\n",
    "def greet_person(name):\n",
    "    return name\n",
    "\n",
    "greet('Marvin')"
   ]
  },
  {
   "cell_type": "markdown",
   "id": "0d231f66",
   "metadata": {},
   "source": [
    "## Using Decorators"
   ]
  },
  {
   "cell_type": "markdown",
   "id": "5ab6b18c",
   "metadata": {},
   "source": [
    "### Timing functions"
   ]
  },
  {
   "cell_type": "code",
   "execution_count": null,
   "id": "0e51b2c1",
   "metadata": {},
   "outputs": [],
   "source": [
    "import time\n",
    "\n",
    "def main(action):\n",
    "    print('Starting...')\n",
    "    time.sleep(1)\n",
    "    print(f'Working on {action}')\n",
    "    time.sleep(2)\n",
    "    print('Completed...')\n",
    "    \n",
    "\n",
    "start_time = time.time()\n",
    "main('Algebra')\n",
    "end_time = time.time()\n",
    "\n",
    "print(f'Process took {end_time - start_time} seconds.')"
   ]
  },
  {
   "cell_type": "code",
   "execution_count": 34,
   "id": "c5f26533",
   "metadata": {},
   "outputs": [],
   "source": [
    "def timer(func):\n",
    "    def inner_function(action):\n",
    "        start_time = time.time()\n",
    "        func(action)\n",
    "        end_time = time.time()\n",
    "        \n",
    "        print(f'Process took {end_time - start_time} seconds')\n",
    "        \n",
    "    return inner_function\n",
    "\n",
    "@timer\n",
    "def main(action):\n",
    "    print('Starting...')\n",
    "    time.sleep(1)\n",
    "    print(f'Working on {action}')\n",
    "    time.sleep(2)\n",
    "    print('Completed...')\n",
    "    \n",
    "@timer\n",
    "def square(a):\n",
    "    print(a**2)"
   ]
  },
  {
   "cell_type": "code",
   "execution_count": 41,
   "id": "2ab0bcb6",
   "metadata": {},
   "outputs": [
    {
     "name": "stdout",
     "output_type": "stream",
     "text": [
      "Starting...\n",
      "Working on Time Travel\n",
      "Completed...\n",
      "Process took 3.00577974319458 seconds\n",
      "4\n",
      "Process took 0.0 seconds\n"
     ]
    }
   ],
   "source": [
    "main('Time Travel')\n",
    "square(2)"
   ]
  },
  {
   "cell_type": "code",
   "execution_count": 67,
   "id": "fe8b6fdf",
   "metadata": {},
   "outputs": [],
   "source": [
    "def timer(func):\n",
    "    def inner_function(*args, **kwargs):\n",
    "        start_time = time.time()\n",
    "        func(*args, **kwargs)\n",
    "        end_time = time.time()\n",
    "        \n",
    "        print(f'Process took {end_time - start_time} seconds')\n",
    "        \n",
    "    return inner_function"
   ]
  },
  {
   "cell_type": "code",
   "execution_count": 61,
   "id": "eff1dd80",
   "metadata": {},
   "outputs": [
    {
     "name": "stdout",
     "output_type": "stream",
     "text": [
      "2499999999750999\n",
      "Process took 6.409980773925781 seconds\n"
     ]
    }
   ],
   "source": [
    "@timer\n",
    "def increment(start, end):\n",
    "    total = 0\n",
    "    for i in range(start, end+1):\n",
    "        if i%2 !=0:\n",
    "            total += i\n",
    "    print(total)\n",
    "\n",
    "increment(999, 100_000_000)"
   ]
  },
  {
   "cell_type": "code",
   "execution_count": 55,
   "id": "23ea3154",
   "metadata": {},
   "outputs": [
    {
     "name": "stdout",
     "output_type": "stream",
     "text": [
      "['Douglas Adams', 'Paul Atreides', 'Ursula K. Le Guin', 'James Tiptree Jr.', 'Hari Seldon', 'Alice Sheldon', 'Kilroy K. Silkbeard', 'Dan Simmons', 'Kilgore Trout', 'Valis', 'H.G. Wells']\n",
      "Process took 0.0 seconds\n"
     ]
    }
   ],
   "source": [
    "@timer\n",
    "def sort_names(names):\n",
    "    names.sort(key=lambda name: name.split(\" \")[-1].lower())\n",
    "    print(names)\n",
    "\n",
    "\n",
    "authors = [\n",
    "    \"Hari Seldon\",\n",
    "    \"Kilgore Trout\",\n",
    "    \"Valis\",\n",
    "    \"Paul Atreides\",\n",
    "    \"Douglas Adams\",\n",
    "    \"H.G. Wells\",\n",
    "    \"Ursula K. Le Guin\",\n",
    "    \"Kilroy K. Silkbeard\",\n",
    "    \"Alice Sheldon\",\n",
    "    \"James Tiptree Jr.\",\n",
    "    \"Dan Simmons\",\n",
    "]\n",
    "\n",
    "sort_names(authors)"
   ]
  },
  {
   "cell_type": "markdown",
   "id": "e94161ef",
   "metadata": {},
   "source": [
    "### Logging"
   ]
  },
  {
   "cell_type": "code",
   "execution_count": 81,
   "id": "4c827027",
   "metadata": {},
   "outputs": [
    {
     "name": "stdout",
     "output_type": "stream",
     "text": [
      "Starting program at 2023-06-10 17:09:00.216281\n",
      "Running \"increment\" \n",
      "2499999999750999\n",
      "Stoping program..\n",
      "End time: 2023-06-10 17:09:06.513371\n",
      "Process took 6.2970898151397705 seconds\n"
     ]
    }
   ],
   "source": [
    "from datetime import datetime\n",
    "\n",
    "def logger(func):\n",
    "    def inner_function(*args, **kwargs):\n",
    "        print(f'Starting program at {datetime.now()}')\n",
    "        print(f'Running \"{func.__name__}\" ')\n",
    "        func(*args , **kwargs)\n",
    "        print(f'Stoping program..')\n",
    "        print(f'End time: {datetime.now()}')\n",
    "    return inner_function\n",
    "\n",
    "\n",
    "@timer\n",
    "@logger\n",
    "def increment(start, end):\n",
    "    total = 0\n",
    "    for i in range(start, end + 1):\n",
    "        if i % 2 != 0:\n",
    "            total += i\n",
    "    print(total)\n",
    "\n",
    "increment(999, 100_000_000)\n",
    "        "
   ]
  },
  {
   "cell_type": "code",
   "execution_count": null,
   "id": "39db9fcf",
   "metadata": {},
   "outputs": [],
   "source": []
  }
 ],
 "metadata": {
  "kernelspec": {
   "display_name": "Python 3 (ipykernel)",
   "language": "python",
   "name": "python3"
  },
  "language_info": {
   "codemirror_mode": {
    "name": "ipython",
    "version": 3
   },
   "file_extension": ".py",
   "mimetype": "text/x-python",
   "name": "python",
   "nbconvert_exporter": "python",
   "pygments_lexer": "ipython3",
   "version": "3.11.3"
  }
 },
 "nbformat": 4,
 "nbformat_minor": 5
}
