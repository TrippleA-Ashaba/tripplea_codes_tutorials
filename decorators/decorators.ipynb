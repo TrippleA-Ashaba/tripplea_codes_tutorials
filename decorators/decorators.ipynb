{
 "cells": [
  {
   "cell_type": "markdown",
   "id": "9a88ea21",
   "metadata": {},
   "source": [
    "# Decorators"
   ]
  },
  {
   "cell_type": "markdown",
   "id": "ce2d6e31",
   "metadata": {},
   "source": [
    "### To understand decorators, Understand functions"
   ]
  },
  {
   "cell_type": "code",
   "execution_count": 2,
   "id": "b25da74e",
   "metadata": {},
   "outputs": [
    {
     "data": {
      "text/plain": [
       "9"
      ]
     },
     "execution_count": 2,
     "metadata": {},
     "output_type": "execute_result"
    }
   ],
   "source": [
    "# function\n",
    "def square(num):\n",
    "    return num ** 2\n",
    "\n",
    "square(3)"
   ]
  },
  {
   "cell_type": "markdown",
   "id": "be8eaeb1",
   "metadata": {},
   "source": [
    "## First-class objects"
   ]
  },
  {
   "cell_type": "markdown",
   "id": "cd427386",
   "metadata": {},
   "source": [
    "### function as argument"
   ]
  },
  {
   "cell_type": "code",
   "execution_count": 9,
   "id": "c1b35fb8",
   "metadata": {},
   "outputs": [
    {
     "data": {
      "text/plain": [
       "'Hello there, Tom!'"
      ]
     },
     "execution_count": 9,
     "metadata": {},
     "output_type": "execute_result"
    }
   ],
   "source": [
    "def say_hi(name):\n",
    "    return f'Hello there, {name}!'\n",
    "\n",
    "def praise(name):\n",
    "    return f\"{name} is awesome!\"\n",
    "\n",
    "def greet_tom(func):\n",
    "    return func('Tom')\n",
    "\n",
    "greet_tom(say_hi)"
   ]
  },
  {
   "cell_type": "code",
   "execution_count": 10,
   "id": "70fff2e8",
   "metadata": {},
   "outputs": [
    {
     "data": {
      "text/plain": [
       "'Tom is awesome!'"
      ]
     },
     "execution_count": 10,
     "metadata": {},
     "output_type": "execute_result"
    }
   ],
   "source": [
    "greet_tom(praise)"
   ]
  },
  {
   "cell_type": "markdown",
   "id": "da15858b",
   "metadata": {},
   "source": [
    "### functions inside functions"
   ]
  },
  {
   "cell_type": "code",
   "execution_count": 17,
   "id": "d402bd18",
   "metadata": {},
   "outputs": [
    {
     "name": "stdout",
     "output_type": "stream",
     "text": [
      "This is the parent function\n",
      "This is the second child function\n",
      "This is the first child function\n"
     ]
    }
   ],
   "source": [
    "def parent_func():\n",
    "    print(\"This is the parent function\")\n",
    "    \n",
    "    def second_child_func():\n",
    "        print(\"This is the second child function\")\n",
    "    \n",
    "    \n",
    "    def first_child_func():\n",
    "        print(\"This is the first child function\")\n",
    "\n",
    "    second_child_func()\n",
    "    first_child_func()\n",
    "    \n",
    "    \n",
    "    \n",
    "\n",
    "parent_func()"
   ]
  },
  {
   "cell_type": "markdown",
   "id": "dde8961f",
   "metadata": {},
   "source": [
    "### Return functions from functions"
   ]
  },
  {
   "cell_type": "code",
   "execution_count": 21,
   "id": "23a1ae3e",
   "metadata": {},
   "outputs": [
    {
     "data": {
      "text/plain": [
       "'What are remainders?'"
      ]
     },
     "execution_count": 21,
     "metadata": {},
     "output_type": "execute_result"
    }
   ],
   "source": [
    "def remains(num):\n",
    "    def even():\n",
    "        return 'What are remainders?'\n",
    "    def odd():\n",
    "        return 'I have remainders'\n",
    "    \n",
    "    if num % 2 == 0:\n",
    "        return even\n",
    "    else:\n",
    "        return odd\n",
    "\n",
    "is_even = remains(10)\n",
    "is_even()"
   ]
  },
  {
   "cell_type": "code",
   "execution_count": 22,
   "id": "a816948f",
   "metadata": {},
   "outputs": [
    {
     "data": {
      "text/plain": [
       "'I have remainders'"
      ]
     },
     "execution_count": 22,
     "metadata": {},
     "output_type": "execute_result"
    }
   ],
   "source": [
    "is_odd = remains(5)\n",
    "is_odd()"
   ]
  },
  {
   "cell_type": "code",
   "execution_count": null,
   "id": "f8d906d1",
   "metadata": {},
   "outputs": [],
   "source": []
  }
 ],
 "metadata": {
  "kernelspec": {
   "display_name": "Python 3 (ipykernel)",
   "language": "python",
   "name": "python3"
  },
  "language_info": {
   "codemirror_mode": {
    "name": "ipython",
    "version": 3
   },
   "file_extension": ".py",
   "mimetype": "text/x-python",
   "name": "python",
   "nbconvert_exporter": "python",
   "pygments_lexer": "ipython3",
   "version": "3.11.3"
  }
 },
 "nbformat": 4,
 "nbformat_minor": 5
}
